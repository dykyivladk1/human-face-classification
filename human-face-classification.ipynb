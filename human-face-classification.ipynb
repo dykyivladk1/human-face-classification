{
 "cells": [
  {
   "cell_type": "code",
   "execution_count": 25,
   "metadata": {},
   "outputs": [],
   "source": [
    "import torch\n",
    "import torch.nn as nn\n",
    "import torchvision.transforms as tr\n",
    "import torchvision.models as models\n",
    "import torchvision.utils as vutils\n",
    "from torch.utils.data import random_split, DataLoader\n",
    "from torch_snippets import *\n",
    "from torchinfo import summary\n",
    "\n",
    "from efficientnet_pytorch import EfficientNet\n",
    "\n",
    "import albumentations as A\n",
    "from albumentations.pytorch import ToTensorV2\n",
    "\n",
    "import os\n",
    "from glob import glob\n",
    "import cv2\n",
    "from PIL import Image\n",
    "\n",
    "import numpy as np\n",
    "\n",
    "from tqdm.notebook import tqdm\n",
    "\n",
    "device = torch.device(\"mps\")"
   ]
  },
  {
   "cell_type": "code",
   "execution_count": 26,
   "metadata": {},
   "outputs": [
    {
     "data": {
      "text/html": [
       "<pre style=\"white-space:pre;overflow-x:auto;line-height:normal;font-family:Menlo,'DejaVu Sans Mono',consolas,'Courier New',monospace\">All images have the same size.\n",
       "</pre>\n"
      ],
      "text/plain": [
       "All images have the same size.\n"
      ]
     },
     "metadata": {},
     "output_type": "display_data"
    },
    {
     "data": {
      "text/html": [
       "<pre style=\"white-space:pre;overflow-x:auto;line-height:normal;font-family:Menlo,'DejaVu Sans Mono',consolas,'Courier New',monospace\">Median Width: <span style=\"color: #008080; text-decoration-color: #008080; font-weight: bold\">224.0</span>, Median Height: <span style=\"color: #008080; text-decoration-color: #008080; font-weight: bold\">224.0</span>\n",
       "</pre>\n"
      ],
      "text/plain": [
       "Median Width: \u001b[1;36m224.0\u001b[0m, Median Height: \u001b[1;36m224.0\u001b[0m\n"
      ]
     },
     "metadata": {},
     "output_type": "display_data"
    }
   ],
   "source": [
    "def check_image_sizes(root_dir, print_uniformity=True):\n",
    "    widths = []\n",
    "    heights = []\n",
    "    for subdir, dirs, files in os.walk(root_dir):\n",
    "        for file in files:\n",
    "            try:\n",
    "                with Image.open(os.path.join(subdir, file)) as img:\n",
    "                    width, height = img.size\n",
    "                    widths.append(width)\n",
    "                    heights.append(height)\n",
    "            except IOError:\n",
    "                # Skip files that are not images\n",
    "                continue\n",
    "\n",
    "    if not widths or not heights:\n",
    "        print(\"No images found.\")\n",
    "        return None\n",
    "\n",
    "    median_width = np.median(widths)\n",
    "    median_height = np.median(heights)\n",
    "\n",
    "    if print_uniformity:\n",
    "        if len(set(widths)) == 1 and len(set(heights)) == 1:\n",
    "            print(\"All images have the same size.\")\n",
    "        else:\n",
    "            print(\"Images vary in size and may need to be resized.\")\n",
    "\n",
    "    return median_width, median_height\n",
    "\n",
    "root_dir = 'data/data/train'  \n",
    "median_width, median_height = check_image_sizes(root_dir)\n",
    "print(f\"Median Width: {median_width}, Median Height: {median_height}\")\n"
   ]
  },
  {
   "cell_type": "code",
   "execution_count": 27,
   "metadata": {},
   "outputs": [],
   "source": [
    "train_transform = A.Compose(\n",
    "    [\n",
    "        A.SmallestMaxSize(max_size=160),\n",
    "        A.ShiftScaleRotate(shift_limit=0.05, scale_limit=0.05, rotate_limit=15, p=0.5),\n",
    "        A.RandomCrop(height=128, width=128),\n",
    "        A.RGBShift(r_shift_limit=15, g_shift_limit=15, b_shift_limit=15, p=0.5),\n",
    "        A.RandomBrightnessContrast(p=0.5),\n",
    "        A.Normalize(mean=(0.485, 0.456, 0.406), std=(0.229, 0.224, 0.225)),\n",
    "        ToTensorV2(),\n",
    "    ]\n",
    ")\n",
    "\n",
    "\n",
    "val_transform = A.Compose(\n",
    "    [\n",
    "        A.SmallestMaxSize(max_size=160),\n",
    "        A.CenterCrop(height=128, width=128),\n",
    "        A.Normalize(mean=(0.485, 0.456, 0.406), std=(0.229, 0.224, 0.225)),\n",
    "        ToTensorV2(),\n",
    "    ]\n",
    ")"
   ]
  },
  {
   "cell_type": "code",
   "execution_count": 89,
   "metadata": {},
   "outputs": [
    {
     "data": {
      "text/plain": [
       "126000"
      ]
     },
     "execution_count": 89,
     "metadata": {},
     "output_type": "execute_result"
    }
   ],
   "source": [
    "class HumanFaceDataset(\n",
    "    torch.utils.data.Dataset\n",
    "):\n",
    "    def __init__(self, path, flag = \"train\", transforms = None):\n",
    "        self.path = path\n",
    "        self.flag = flag\n",
    "        self.transforms = transforms\n",
    "        if self.flag == \"train\":\n",
    "            self.objects = sorted(glob(f\"{self.path}/**/*.jpg\", recursive=True))\n",
    "        else:\n",
    "            self.objects = sorted(glob(f\"{self.path}/*.jpg\", recursive=True))\n",
    "\n",
    "            \n",
    "        self.labels = self.find_labels(self.objects)\n",
    "        self.label2idx = {label: idx for idx, label in enumerate(sorted(set(self.labels)))}\n",
    "        self.idx2label = {idx: label for label, idx in self.label2idx.items()}\n",
    "    \n",
    "    def find_labels(self, list_paths):\n",
    "        labels = []\n",
    "        for path in list_paths:\n",
    "            label = os.path.basename(os.path.dirname(path))\n",
    "            labels.append(label)\n",
    "        return labels\n",
    "    def __len__(self):\n",
    "        return len(self.objects)\n",
    "    \n",
    "    def __getitem__(self, idx):\n",
    "        image_path = str(self.objects[idx])\n",
    "        label = self.labels[idx]\n",
    "        label = self.label2idx[label]\n",
    "        \n",
    "        image = cv2.imread(image_path, cv2.IMREAD_COLOR)\n",
    "        image = cv2.cvtColor(image, cv2.COLOR_BGR2RGB)\n",
    "        \n",
    "        if self.transforms is not None:\n",
    "            image = self.transforms(image = image)[\"image\"]\n",
    "            \n",
    "        label = torch.tensor(label, dtype = torch.long)\n",
    "        if self.flag == \"train\":\n",
    "            return image, label\n",
    "        else:\n",
    "            return image, image_path\n",
    "    \n",
    "full_ds = HumanFaceDataset(\n",
    "    path = \"data/data\", transforms = train_transform\n",
    ")\n",
    "\n",
    "train_size = int(len(full_ds)  * 0.9)\n",
    "val_size = len(full_ds) - train_size\n",
    "\n",
    "train_ds, val_ds = random_split(full_ds, [train_size, val_size])\n",
    "\n",
    "\n",
    "len(train_ds)"
   ]
  },
  {
   "cell_type": "code",
   "execution_count": 73,
   "metadata": {},
   "outputs": [],
   "source": [
    "train_dl = DataLoader(\n",
    "    train_ds, batch_size = 32, shuffle = True, pin_memory = True\n",
    ")\n",
    "\n",
    "val_dl = DataLoader(\n",
    "    val_ds, batch_size = 32, shuffle = False, pin_memory = True, drop_last = True\n",
    ")"
   ]
  },
  {
   "cell_type": "code",
   "execution_count": 74,
   "metadata": {},
   "outputs": [
    {
     "data": {
      "text/plain": [
       "7000"
      ]
     },
     "execution_count": 74,
     "metadata": {},
     "output_type": "execute_result"
    }
   ],
   "source": [
    "num_classes = len(full_ds.label2idx)\n",
    "num_classes"
   ]
  },
  {
   "cell_type": "code",
   "execution_count": 75,
   "metadata": {},
   "outputs": [
    {
     "name": "stdout",
     "output_type": "stream",
     "text": [
      "Loaded pretrained weights for efficientnet-b0\n"
     ]
    },
    {
     "data": {
      "text/plain": [
       "====================================================================================================\n",
       "Layer (type:depth-idx)                             Output Shape              Param #\n",
       "====================================================================================================\n",
       "EfficientNet                                       [1, 7000]                 --\n",
       "├─Conv2dStaticSamePadding: 1-1                     [1, 32, 112, 112]         864\n",
       "│    └─ZeroPad2d: 2-1                              [1, 3, 225, 225]          --\n",
       "├─BatchNorm2d: 1-2                                 [1, 32, 112, 112]         64\n",
       "├─MemoryEfficientSwish: 1-3                        [1, 32, 112, 112]         --\n",
       "├─ModuleList: 1-4                                  --                        --\n",
       "│    └─MBConvBlock: 2-2                            [1, 16, 112, 112]         --\n",
       "│    │    └─Conv2dStaticSamePadding: 3-1           [1, 32, 112, 112]         288\n",
       "│    │    └─BatchNorm2d: 3-2                       [1, 32, 112, 112]         64\n",
       "│    │    └─MemoryEfficientSwish: 3-3              [1, 32, 112, 112]         --\n",
       "│    │    └─Conv2dStaticSamePadding: 3-4           [1, 8, 1, 1]              264\n",
       "│    │    └─MemoryEfficientSwish: 3-5              [1, 8, 1, 1]              --\n",
       "│    │    └─Conv2dStaticSamePadding: 3-6           [1, 32, 1, 1]             288\n",
       "│    │    └─Conv2dStaticSamePadding: 3-7           [1, 16, 112, 112]         512\n",
       "│    │    └─BatchNorm2d: 3-8                       [1, 16, 112, 112]         32\n",
       "│    └─MBConvBlock: 2-3                            [1, 24, 56, 56]           --\n",
       "│    │    └─Conv2dStaticSamePadding: 3-9           [1, 96, 112, 112]         1,536\n",
       "│    │    └─BatchNorm2d: 3-10                      [1, 96, 112, 112]         192\n",
       "│    │    └─MemoryEfficientSwish: 3-11             [1, 96, 112, 112]         --\n",
       "│    │    └─Conv2dStaticSamePadding: 3-12          [1, 96, 56, 56]           864\n",
       "│    │    └─BatchNorm2d: 3-13                      [1, 96, 56, 56]           192\n",
       "│    │    └─MemoryEfficientSwish: 3-14             [1, 96, 56, 56]           --\n",
       "│    │    └─Conv2dStaticSamePadding: 3-15          [1, 4, 1, 1]              388\n",
       "│    │    └─MemoryEfficientSwish: 3-16             [1, 4, 1, 1]              --\n",
       "│    │    └─Conv2dStaticSamePadding: 3-17          [1, 96, 1, 1]             480\n",
       "│    │    └─Conv2dStaticSamePadding: 3-18          [1, 24, 56, 56]           2,304\n",
       "│    │    └─BatchNorm2d: 3-19                      [1, 24, 56, 56]           48\n",
       "│    └─MBConvBlock: 2-4                            [1, 24, 56, 56]           --\n",
       "│    │    └─Conv2dStaticSamePadding: 3-20          [1, 144, 56, 56]          3,456\n",
       "│    │    └─BatchNorm2d: 3-21                      [1, 144, 56, 56]          288\n",
       "│    │    └─MemoryEfficientSwish: 3-22             [1, 144, 56, 56]          --\n",
       "│    │    └─Conv2dStaticSamePadding: 3-23          [1, 144, 56, 56]          1,296\n",
       "│    │    └─BatchNorm2d: 3-24                      [1, 144, 56, 56]          288\n",
       "│    │    └─MemoryEfficientSwish: 3-25             [1, 144, 56, 56]          --\n",
       "│    │    └─Conv2dStaticSamePadding: 3-26          [1, 6, 1, 1]              870\n",
       "│    │    └─MemoryEfficientSwish: 3-27             [1, 6, 1, 1]              --\n",
       "│    │    └─Conv2dStaticSamePadding: 3-28          [1, 144, 1, 1]            1,008\n",
       "│    │    └─Conv2dStaticSamePadding: 3-29          [1, 24, 56, 56]           3,456\n",
       "│    │    └─BatchNorm2d: 3-30                      [1, 24, 56, 56]           48\n",
       "│    └─MBConvBlock: 2-5                            [1, 40, 28, 28]           --\n",
       "│    │    └─Conv2dStaticSamePadding: 3-31          [1, 144, 56, 56]          3,456\n",
       "│    │    └─BatchNorm2d: 3-32                      [1, 144, 56, 56]          288\n",
       "│    │    └─MemoryEfficientSwish: 3-33             [1, 144, 56, 56]          --\n",
       "│    │    └─Conv2dStaticSamePadding: 3-34          [1, 144, 28, 28]          3,600\n",
       "│    │    └─BatchNorm2d: 3-35                      [1, 144, 28, 28]          288\n",
       "│    │    └─MemoryEfficientSwish: 3-36             [1, 144, 28, 28]          --\n",
       "│    │    └─Conv2dStaticSamePadding: 3-37          [1, 6, 1, 1]              870\n",
       "│    │    └─MemoryEfficientSwish: 3-38             [1, 6, 1, 1]              --\n",
       "│    │    └─Conv2dStaticSamePadding: 3-39          [1, 144, 1, 1]            1,008\n",
       "│    │    └─Conv2dStaticSamePadding: 3-40          [1, 40, 28, 28]           5,760\n",
       "│    │    └─BatchNorm2d: 3-41                      [1, 40, 28, 28]           80\n",
       "│    └─MBConvBlock: 2-6                            [1, 40, 28, 28]           --\n",
       "│    │    └─Conv2dStaticSamePadding: 3-42          [1, 240, 28, 28]          9,600\n",
       "│    │    └─BatchNorm2d: 3-43                      [1, 240, 28, 28]          480\n",
       "│    │    └─MemoryEfficientSwish: 3-44             [1, 240, 28, 28]          --\n",
       "│    │    └─Conv2dStaticSamePadding: 3-45          [1, 240, 28, 28]          6,000\n",
       "│    │    └─BatchNorm2d: 3-46                      [1, 240, 28, 28]          480\n",
       "│    │    └─MemoryEfficientSwish: 3-47             [1, 240, 28, 28]          --\n",
       "│    │    └─Conv2dStaticSamePadding: 3-48          [1, 10, 1, 1]             2,410\n",
       "│    │    └─MemoryEfficientSwish: 3-49             [1, 10, 1, 1]             --\n",
       "│    │    └─Conv2dStaticSamePadding: 3-50          [1, 240, 1, 1]            2,640\n",
       "│    │    └─Conv2dStaticSamePadding: 3-51          [1, 40, 28, 28]           9,600\n",
       "│    │    └─BatchNorm2d: 3-52                      [1, 40, 28, 28]           80\n",
       "│    └─MBConvBlock: 2-7                            [1, 80, 14, 14]           --\n",
       "│    │    └─Conv2dStaticSamePadding: 3-53          [1, 240, 28, 28]          9,600\n",
       "│    │    └─BatchNorm2d: 3-54                      [1, 240, 28, 28]          480\n",
       "│    │    └─MemoryEfficientSwish: 3-55             [1, 240, 28, 28]          --\n",
       "│    │    └─Conv2dStaticSamePadding: 3-56          [1, 240, 14, 14]          2,160\n",
       "│    │    └─BatchNorm2d: 3-57                      [1, 240, 14, 14]          480\n",
       "│    │    └─MemoryEfficientSwish: 3-58             [1, 240, 14, 14]          --\n",
       "│    │    └─Conv2dStaticSamePadding: 3-59          [1, 10, 1, 1]             2,410\n",
       "│    │    └─MemoryEfficientSwish: 3-60             [1, 10, 1, 1]             --\n",
       "│    │    └─Conv2dStaticSamePadding: 3-61          [1, 240, 1, 1]            2,640\n",
       "│    │    └─Conv2dStaticSamePadding: 3-62          [1, 80, 14, 14]           19,200\n",
       "│    │    └─BatchNorm2d: 3-63                      [1, 80, 14, 14]           160\n",
       "│    └─MBConvBlock: 2-8                            [1, 80, 14, 14]           --\n",
       "│    │    └─Conv2dStaticSamePadding: 3-64          [1, 480, 14, 14]          38,400\n",
       "│    │    └─BatchNorm2d: 3-65                      [1, 480, 14, 14]          960\n",
       "│    │    └─MemoryEfficientSwish: 3-66             [1, 480, 14, 14]          --\n",
       "│    │    └─Conv2dStaticSamePadding: 3-67          [1, 480, 14, 14]          4,320\n",
       "│    │    └─BatchNorm2d: 3-68                      [1, 480, 14, 14]          960\n",
       "│    │    └─MemoryEfficientSwish: 3-69             [1, 480, 14, 14]          --\n",
       "│    │    └─Conv2dStaticSamePadding: 3-70          [1, 20, 1, 1]             9,620\n",
       "│    │    └─MemoryEfficientSwish: 3-71             [1, 20, 1, 1]             --\n",
       "│    │    └─Conv2dStaticSamePadding: 3-72          [1, 480, 1, 1]            10,080\n",
       "│    │    └─Conv2dStaticSamePadding: 3-73          [1, 80, 14, 14]           38,400\n",
       "│    │    └─BatchNorm2d: 3-74                      [1, 80, 14, 14]           160\n",
       "│    └─MBConvBlock: 2-9                            [1, 80, 14, 14]           --\n",
       "│    │    └─Conv2dStaticSamePadding: 3-75          [1, 480, 14, 14]          38,400\n",
       "│    │    └─BatchNorm2d: 3-76                      [1, 480, 14, 14]          960\n",
       "│    │    └─MemoryEfficientSwish: 3-77             [1, 480, 14, 14]          --\n",
       "│    │    └─Conv2dStaticSamePadding: 3-78          [1, 480, 14, 14]          4,320\n",
       "│    │    └─BatchNorm2d: 3-79                      [1, 480, 14, 14]          960\n",
       "│    │    └─MemoryEfficientSwish: 3-80             [1, 480, 14, 14]          --\n",
       "│    │    └─Conv2dStaticSamePadding: 3-81          [1, 20, 1, 1]             9,620\n",
       "│    │    └─MemoryEfficientSwish: 3-82             [1, 20, 1, 1]             --\n",
       "│    │    └─Conv2dStaticSamePadding: 3-83          [1, 480, 1, 1]            10,080\n",
       "│    │    └─Conv2dStaticSamePadding: 3-84          [1, 80, 14, 14]           38,400\n",
       "│    │    └─BatchNorm2d: 3-85                      [1, 80, 14, 14]           160\n",
       "│    └─MBConvBlock: 2-10                           [1, 112, 14, 14]          --\n",
       "│    │    └─Conv2dStaticSamePadding: 3-86          [1, 480, 14, 14]          38,400\n",
       "│    │    └─BatchNorm2d: 3-87                      [1, 480, 14, 14]          960\n",
       "│    │    └─MemoryEfficientSwish: 3-88             [1, 480, 14, 14]          --\n",
       "│    │    └─Conv2dStaticSamePadding: 3-89          [1, 480, 14, 14]          12,000\n",
       "│    │    └─BatchNorm2d: 3-90                      [1, 480, 14, 14]          960\n",
       "│    │    └─MemoryEfficientSwish: 3-91             [1, 480, 14, 14]          --\n",
       "│    │    └─Conv2dStaticSamePadding: 3-92          [1, 20, 1, 1]             9,620\n",
       "│    │    └─MemoryEfficientSwish: 3-93             [1, 20, 1, 1]             --\n",
       "│    │    └─Conv2dStaticSamePadding: 3-94          [1, 480, 1, 1]            10,080\n",
       "│    │    └─Conv2dStaticSamePadding: 3-95          [1, 112, 14, 14]          53,760\n",
       "│    │    └─BatchNorm2d: 3-96                      [1, 112, 14, 14]          224\n",
       "│    └─MBConvBlock: 2-11                           [1, 112, 14, 14]          --\n",
       "│    │    └─Conv2dStaticSamePadding: 3-97          [1, 672, 14, 14]          75,264\n",
       "│    │    └─BatchNorm2d: 3-98                      [1, 672, 14, 14]          1,344\n",
       "│    │    └─MemoryEfficientSwish: 3-99             [1, 672, 14, 14]          --\n",
       "│    │    └─Conv2dStaticSamePadding: 3-100         [1, 672, 14, 14]          16,800\n",
       "│    │    └─BatchNorm2d: 3-101                     [1, 672, 14, 14]          1,344\n",
       "│    │    └─MemoryEfficientSwish: 3-102            [1, 672, 14, 14]          --\n",
       "│    │    └─Conv2dStaticSamePadding: 3-103         [1, 28, 1, 1]             18,844\n",
       "│    │    └─MemoryEfficientSwish: 3-104            [1, 28, 1, 1]             --\n",
       "│    │    └─Conv2dStaticSamePadding: 3-105         [1, 672, 1, 1]            19,488\n",
       "│    │    └─Conv2dStaticSamePadding: 3-106         [1, 112, 14, 14]          75,264\n",
       "│    │    └─BatchNorm2d: 3-107                     [1, 112, 14, 14]          224\n",
       "│    └─MBConvBlock: 2-12                           [1, 112, 14, 14]          --\n",
       "│    │    └─Conv2dStaticSamePadding: 3-108         [1, 672, 14, 14]          75,264\n",
       "│    │    └─BatchNorm2d: 3-109                     [1, 672, 14, 14]          1,344\n",
       "│    │    └─MemoryEfficientSwish: 3-110            [1, 672, 14, 14]          --\n",
       "│    │    └─Conv2dStaticSamePadding: 3-111         [1, 672, 14, 14]          16,800\n",
       "│    │    └─BatchNorm2d: 3-112                     [1, 672, 14, 14]          1,344\n",
       "│    │    └─MemoryEfficientSwish: 3-113            [1, 672, 14, 14]          --\n",
       "│    │    └─Conv2dStaticSamePadding: 3-114         [1, 28, 1, 1]             18,844\n",
       "│    │    └─MemoryEfficientSwish: 3-115            [1, 28, 1, 1]             --\n",
       "│    │    └─Conv2dStaticSamePadding: 3-116         [1, 672, 1, 1]            19,488\n",
       "│    │    └─Conv2dStaticSamePadding: 3-117         [1, 112, 14, 14]          75,264\n",
       "│    │    └─BatchNorm2d: 3-118                     [1, 112, 14, 14]          224\n",
       "│    └─MBConvBlock: 2-13                           [1, 192, 7, 7]            --\n",
       "│    │    └─Conv2dStaticSamePadding: 3-119         [1, 672, 14, 14]          75,264\n",
       "│    │    └─BatchNorm2d: 3-120                     [1, 672, 14, 14]          1,344\n",
       "│    │    └─MemoryEfficientSwish: 3-121            [1, 672, 14, 14]          --\n",
       "│    │    └─Conv2dStaticSamePadding: 3-122         [1, 672, 7, 7]            16,800\n",
       "│    │    └─BatchNorm2d: 3-123                     [1, 672, 7, 7]            1,344\n",
       "│    │    └─MemoryEfficientSwish: 3-124            [1, 672, 7, 7]            --\n",
       "│    │    └─Conv2dStaticSamePadding: 3-125         [1, 28, 1, 1]             18,844\n",
       "│    │    └─MemoryEfficientSwish: 3-126            [1, 28, 1, 1]             --\n",
       "│    │    └─Conv2dStaticSamePadding: 3-127         [1, 672, 1, 1]            19,488\n",
       "│    │    └─Conv2dStaticSamePadding: 3-128         [1, 192, 7, 7]            129,024\n",
       "│    │    └─BatchNorm2d: 3-129                     [1, 192, 7, 7]            384\n",
       "│    └─MBConvBlock: 2-14                           [1, 192, 7, 7]            --\n",
       "│    │    └─Conv2dStaticSamePadding: 3-130         [1, 1152, 7, 7]           221,184\n",
       "│    │    └─BatchNorm2d: 3-131                     [1, 1152, 7, 7]           2,304\n",
       "│    │    └─MemoryEfficientSwish: 3-132            [1, 1152, 7, 7]           --\n",
       "│    │    └─Conv2dStaticSamePadding: 3-133         [1, 1152, 7, 7]           28,800\n",
       "│    │    └─BatchNorm2d: 3-134                     [1, 1152, 7, 7]           2,304\n",
       "│    │    └─MemoryEfficientSwish: 3-135            [1, 1152, 7, 7]           --\n",
       "│    │    └─Conv2dStaticSamePadding: 3-136         [1, 48, 1, 1]             55,344\n",
       "│    │    └─MemoryEfficientSwish: 3-137            [1, 48, 1, 1]             --\n",
       "│    │    └─Conv2dStaticSamePadding: 3-138         [1, 1152, 1, 1]           56,448\n",
       "│    │    └─Conv2dStaticSamePadding: 3-139         [1, 192, 7, 7]            221,184\n",
       "│    │    └─BatchNorm2d: 3-140                     [1, 192, 7, 7]            384\n",
       "│    └─MBConvBlock: 2-15                           [1, 192, 7, 7]            --\n",
       "│    │    └─Conv2dStaticSamePadding: 3-141         [1, 1152, 7, 7]           221,184\n",
       "│    │    └─BatchNorm2d: 3-142                     [1, 1152, 7, 7]           2,304\n",
       "│    │    └─MemoryEfficientSwish: 3-143            [1, 1152, 7, 7]           --\n",
       "│    │    └─Conv2dStaticSamePadding: 3-144         [1, 1152, 7, 7]           28,800\n",
       "│    │    └─BatchNorm2d: 3-145                     [1, 1152, 7, 7]           2,304\n",
       "│    │    └─MemoryEfficientSwish: 3-146            [1, 1152, 7, 7]           --\n",
       "│    │    └─Conv2dStaticSamePadding: 3-147         [1, 48, 1, 1]             55,344\n",
       "│    │    └─MemoryEfficientSwish: 3-148            [1, 48, 1, 1]             --\n",
       "│    │    └─Conv2dStaticSamePadding: 3-149         [1, 1152, 1, 1]           56,448\n",
       "│    │    └─Conv2dStaticSamePadding: 3-150         [1, 192, 7, 7]            221,184\n",
       "│    │    └─BatchNorm2d: 3-151                     [1, 192, 7, 7]            384\n",
       "│    └─MBConvBlock: 2-16                           [1, 192, 7, 7]            --\n",
       "│    │    └─Conv2dStaticSamePadding: 3-152         [1, 1152, 7, 7]           221,184\n",
       "│    │    └─BatchNorm2d: 3-153                     [1, 1152, 7, 7]           2,304\n",
       "│    │    └─MemoryEfficientSwish: 3-154            [1, 1152, 7, 7]           --\n",
       "│    │    └─Conv2dStaticSamePadding: 3-155         [1, 1152, 7, 7]           28,800\n",
       "│    │    └─BatchNorm2d: 3-156                     [1, 1152, 7, 7]           2,304\n",
       "│    │    └─MemoryEfficientSwish: 3-157            [1, 1152, 7, 7]           --\n",
       "│    │    └─Conv2dStaticSamePadding: 3-158         [1, 48, 1, 1]             55,344\n",
       "│    │    └─MemoryEfficientSwish: 3-159            [1, 48, 1, 1]             --\n",
       "│    │    └─Conv2dStaticSamePadding: 3-160         [1, 1152, 1, 1]           56,448\n",
       "│    │    └─Conv2dStaticSamePadding: 3-161         [1, 192, 7, 7]            221,184\n",
       "│    │    └─BatchNorm2d: 3-162                     [1, 192, 7, 7]            384\n",
       "│    └─MBConvBlock: 2-17                           [1, 320, 7, 7]            --\n",
       "│    │    └─Conv2dStaticSamePadding: 3-163         [1, 1152, 7, 7]           221,184\n",
       "│    │    └─BatchNorm2d: 3-164                     [1, 1152, 7, 7]           2,304\n",
       "│    │    └─MemoryEfficientSwish: 3-165            [1, 1152, 7, 7]           --\n",
       "│    │    └─Conv2dStaticSamePadding: 3-166         [1, 1152, 7, 7]           10,368\n",
       "│    │    └─BatchNorm2d: 3-167                     [1, 1152, 7, 7]           2,304\n",
       "│    │    └─MemoryEfficientSwish: 3-168            [1, 1152, 7, 7]           --\n",
       "│    │    └─Conv2dStaticSamePadding: 3-169         [1, 48, 1, 1]             55,344\n",
       "│    │    └─MemoryEfficientSwish: 3-170            [1, 48, 1, 1]             --\n",
       "│    │    └─Conv2dStaticSamePadding: 3-171         [1, 1152, 1, 1]           56,448\n",
       "│    │    └─Conv2dStaticSamePadding: 3-172         [1, 320, 7, 7]            368,640\n",
       "│    │    └─BatchNorm2d: 3-173                     [1, 320, 7, 7]            640\n",
       "├─Conv2dStaticSamePadding: 1-5                     [1, 1280, 7, 7]           409,600\n",
       "│    └─Identity: 2-18                              [1, 320, 7, 7]            --\n",
       "├─BatchNorm2d: 1-6                                 [1, 1280, 7, 7]           2,560\n",
       "├─MemoryEfficientSwish: 1-7                        [1, 1280, 7, 7]           --\n",
       "├─AdaptiveAvgPool2d: 1-8                           [1, 1280, 1, 1]           --\n",
       "├─Dropout: 1-9                                     [1, 1280]                 --\n",
       "├─Linear: 1-10                                     [1, 7000]                 8,967,000\n",
       "====================================================================================================\n",
       "Total params: 12,974,548\n",
       "Trainable params: 12,974,548\n",
       "Non-trainable params: 0\n",
       "Total mult-adds (Units.MEGABYTES): 9.01\n",
       "====================================================================================================\n",
       "Input size (MB): 0.60\n",
       "Forward/backward pass size (MB): 53.96\n",
       "Params size (MB): 36.04\n",
       "Estimated Total Size (MB): 90.60\n",
       "===================================================================================================="
      ]
     },
     "execution_count": 75,
     "metadata": {},
     "output_type": "execute_result"
    }
   ],
   "source": [
    "#we gonna try several models\n",
    "def device_choose(var = \"mps\"):\n",
    "    if var == \"mps\":\n",
    "        device = torch.device(\"mps\")\n",
    "    elif var == \"cpu\":\n",
    "        device = torch.device(\"cpu\")\n",
    "    elif var == \"cuda\":\n",
    "        device = torch.device(\"cuda\")\n",
    "    return device\n",
    "    \n",
    "def choose_model(num_classes, var=\"en\"):\n",
    "    if var == \"en\":\n",
    "        model = EfficientNet.from_pretrained(\"efficientnet-b0\", num_classes=num_classes)\n",
    "    elif var == \"rs18\":\n",
    "        model = models.resnet18(pretrained=True)\n",
    "        in_features = model.fc.in_features\n",
    "        model.fc = nn.Linear(in_features, num_classes)\n",
    "    elif var == \"vgg\":\n",
    "        model = models.vgg16(pretrained=True)\n",
    "        in_features = model.classifier[6].in_features  \n",
    "        model.classifier[6] = nn.Linear(in_features, num_classes)\n",
    "\n",
    "    return model\n",
    "\n",
    "num_classes = num_classes\n",
    "model_type = \"en\"  \n",
    "device = device_choose()  \n",
    "\n",
    "model = choose_model(num_classes, model_type).to(device)\n",
    "model = model.to(device)\n",
    "summary(model, (1, 3, 224, 224))"
   ]
  },
  {
   "cell_type": "code",
   "execution_count": 76,
   "metadata": {},
   "outputs": [],
   "source": [
    "criterion = nn.CrossEntropyLoss()\n",
    "optimizer = torch.optim.Adam(model.parameters(), lr = 0.000001)\n",
    "optimizer = torch.optim.Adam(model.parameters(), lr = 0.001)\n",
    "\n",
    "num_epochs = 10\n",
    "\n",
    "lr_scheduler = torch.optim.lr_scheduler.ReduceLROnPlateau(\n",
    "    optimizer, mode = \"min\", factor = 0.1, patience = 5, threshold = 0.0001, threshold_mode = \"abs\"\n",
    ")"
   ]
  },
  {
   "cell_type": "code",
   "execution_count": 77,
   "metadata": {},
   "outputs": [
    {
     "data": {
      "text/html": [
       "<pre style=\"white-space:pre;overflow-x:auto;line-height:normal;font-family:Menlo,'DejaVu Sans Mono',consolas,'Courier New',monospace\">mps:<span style=\"color: #008080; text-decoration-color: #008080; font-weight: bold\">0</span>\n",
       "</pre>\n"
      ],
      "text/plain": [
       "mps:\u001b[1;36m0\u001b[0m\n"
      ]
     },
     "metadata": {},
     "output_type": "display_data"
    }
   ],
   "source": [
    "model = model.to(torch.device(\"mps\"))\n",
    "print(next(model.parameters()).device)\n",
    "\n",
    "assert next(model.parameters()).device.type == \"mps\", \"model params are not on mps device\""
   ]
  },
  {
   "cell_type": "code",
   "execution_count": 78,
   "metadata": {},
   "outputs": [],
   "source": [
    "def check(train_ds, val_ds):\n",
    "    train_indices = list(range(1000))\n",
    "    train_ds = torch.utils.data.Subset(train_ds, train_indices)\n",
    "\n",
    "    val_indices = list(range(1000))\n",
    "    val_ds = torch.utils.data.Subset(val_ds, val_indices)\n",
    "    return train_ds, val_ds\n",
    "\n",
    "train_ds, val_ds = check(train_ds, val_ds)\n",
    "\n",
    "train_dl = DataLoader(train_ds, batch_size=4) \n",
    "val_dl = DataLoader(val_ds, batch_size=4, drop_last = True)  "
   ]
  },
  {
   "cell_type": "code",
   "execution_count": 79,
   "metadata": {},
   "outputs": [
    {
     "data": {
      "application/vnd.jupyter.widget-view+json": {
       "model_id": "7c373051d5464ada8ab246198110ff9d",
       "version_major": 2,
       "version_minor": 0
      },
      "text/plain": [
       "  0%|          | 0/250 [00:00<?, ?it/s]"
      ]
     },
     "metadata": {},
     "output_type": "display_data"
    },
    {
     "data": {
      "text/html": [
       "<pre style=\"white-space:pre;overflow-x:auto;line-height:normal;font-family:Menlo,'DejaVu Sans Mono',consolas,'Courier New',monospace\">Epoch: <span style=\"font-weight: bold\">[</span><span style=\"color: #008080; text-decoration-color: #008080; font-weight: bold\">1</span>/<span style=\"color: #008080; text-decoration-color: #008080; font-weight: bold\">10</span><span style=\"font-weight: bold\">]</span>, Avg Train Loss: <span style=\"color: #008080; text-decoration-color: #008080; font-weight: bold\">8.9167</span>\n",
       "</pre>\n"
      ],
      "text/plain": [
       "Epoch: \u001b[1m[\u001b[0m\u001b[1;36m1\u001b[0m/\u001b[1;36m10\u001b[0m\u001b[1m]\u001b[0m, Avg Train Loss: \u001b[1;36m8.9167\u001b[0m\n"
      ]
     },
     "metadata": {},
     "output_type": "display_data"
    },
    {
     "data": {
      "application/vnd.jupyter.widget-view+json": {
       "model_id": "e10221b29dee4b0db75b8ea7e809d004",
       "version_major": 2,
       "version_minor": 0
      },
      "text/plain": [
       "  0%|          | 0/250 [00:00<?, ?it/s]"
      ]
     },
     "metadata": {},
     "output_type": "display_data"
    },
    {
     "data": {
      "text/html": [
       "<pre style=\"white-space:pre;overflow-x:auto;line-height:normal;font-family:Menlo,'DejaVu Sans Mono',consolas,'Courier New',monospace\">Validation Accuracy: <span style=\"color: #008080; text-decoration-color: #008080; font-weight: bold\">0.1000</span>%, Avg Validation Loss: <span style=\"color: #008080; text-decoration-color: #008080; font-weight: bold\">9.3332</span>\n",
       "</pre>\n"
      ],
      "text/plain": [
       "Validation Accuracy: \u001b[1;36m0.1000\u001b[0m%, Avg Validation Loss: \u001b[1;36m9.3332\u001b[0m\n"
      ]
     },
     "metadata": {},
     "output_type": "display_data"
    },
    {
     "data": {
      "text/html": [
       "<pre style=\"white-space:pre;overflow-x:auto;line-height:normal;font-family:Menlo,'DejaVu Sans Mono',consolas,'Courier New',monospace\">Validation loss decreased, saving model.\n",
       "</pre>\n"
      ],
      "text/plain": [
       "Validation loss decreased, saving model.\n"
      ]
     },
     "metadata": {},
     "output_type": "display_data"
    },
    {
     "data": {
      "application/vnd.jupyter.widget-view+json": {
       "model_id": "e0b952efbb564ce898c150966ce97a81",
       "version_major": 2,
       "version_minor": 0
      },
      "text/plain": [
       "  0%|          | 0/250 [00:00<?, ?it/s]"
      ]
     },
     "metadata": {},
     "output_type": "display_data"
    },
    {
     "data": {
      "text/html": [
       "<pre style=\"white-space:pre;overflow-x:auto;line-height:normal;font-family:Menlo,'DejaVu Sans Mono',consolas,'Courier New',monospace\">Epoch: <span style=\"font-weight: bold\">[</span><span style=\"color: #008080; text-decoration-color: #008080; font-weight: bold\">2</span>/<span style=\"color: #008080; text-decoration-color: #008080; font-weight: bold\">10</span><span style=\"font-weight: bold\">]</span>, Avg Train Loss: <span style=\"color: #008080; text-decoration-color: #008080; font-weight: bold\">7.2201</span>\n",
       "</pre>\n"
      ],
      "text/plain": [
       "Epoch: \u001b[1m[\u001b[0m\u001b[1;36m2\u001b[0m/\u001b[1;36m10\u001b[0m\u001b[1m]\u001b[0m, Avg Train Loss: \u001b[1;36m7.2201\u001b[0m\n"
      ]
     },
     "metadata": {},
     "output_type": "display_data"
    },
    {
     "data": {
      "application/vnd.jupyter.widget-view+json": {
       "model_id": "a4a7ecefcd144582b66f62a3fafd67bf",
       "version_major": 2,
       "version_minor": 0
      },
      "text/plain": [
       "  0%|          | 0/250 [00:00<?, ?it/s]"
      ]
     },
     "metadata": {},
     "output_type": "display_data"
    },
    {
     "data": {
      "text/html": [
       "<pre style=\"white-space:pre;overflow-x:auto;line-height:normal;font-family:Menlo,'DejaVu Sans Mono',consolas,'Courier New',monospace\">Validation Accuracy: <span style=\"color: #008080; text-decoration-color: #008080; font-weight: bold\">0.1000</span>%, Avg Validation Loss: <span style=\"color: #008080; text-decoration-color: #008080; font-weight: bold\">11.1190</span>\n",
       "</pre>\n"
      ],
      "text/plain": [
       "Validation Accuracy: \u001b[1;36m0.1000\u001b[0m%, Avg Validation Loss: \u001b[1;36m11.1190\u001b[0m\n"
      ]
     },
     "metadata": {},
     "output_type": "display_data"
    },
    {
     "data": {
      "text/html": [
       "<pre style=\"white-space:pre;overflow-x:auto;line-height:normal;font-family:Menlo,'DejaVu Sans Mono',consolas,'Courier New',monospace\">Validation loss did not decrease, patience counter: <span style=\"color: #008080; text-decoration-color: #008080; font-weight: bold\">1</span>/<span style=\"color: #008080; text-decoration-color: #008080; font-weight: bold\">5</span>\n",
       "</pre>\n"
      ],
      "text/plain": [
       "Validation loss did not decrease, patience counter: \u001b[1;36m1\u001b[0m/\u001b[1;36m5\u001b[0m\n"
      ]
     },
     "metadata": {},
     "output_type": "display_data"
    },
    {
     "data": {
      "application/vnd.jupyter.widget-view+json": {
       "model_id": "a0fd4b7d88cc49148e29b1ed6c585c3c",
       "version_major": 2,
       "version_minor": 0
      },
      "text/plain": [
       "  0%|          | 0/250 [00:00<?, ?it/s]"
      ]
     },
     "metadata": {},
     "output_type": "display_data"
    },
    {
     "data": {
      "text/html": [
       "<pre style=\"white-space:pre;overflow-x:auto;line-height:normal;font-family:Menlo,'DejaVu Sans Mono',consolas,'Courier New',monospace\">Epoch: <span style=\"font-weight: bold\">[</span><span style=\"color: #008080; text-decoration-color: #008080; font-weight: bold\">3</span>/<span style=\"color: #008080; text-decoration-color: #008080; font-weight: bold\">10</span><span style=\"font-weight: bold\">]</span>, Avg Train Loss: <span style=\"color: #008080; text-decoration-color: #008080; font-weight: bold\">6.4855</span>\n",
       "</pre>\n"
      ],
      "text/plain": [
       "Epoch: \u001b[1m[\u001b[0m\u001b[1;36m3\u001b[0m/\u001b[1;36m10\u001b[0m\u001b[1m]\u001b[0m, Avg Train Loss: \u001b[1;36m6.4855\u001b[0m\n"
      ]
     },
     "metadata": {},
     "output_type": "display_data"
    },
    {
     "data": {
      "application/vnd.jupyter.widget-view+json": {
       "model_id": "0522276a470044ea808cbe1ee0ea6cb3",
       "version_major": 2,
       "version_minor": 0
      },
      "text/plain": [
       "  0%|          | 0/250 [00:00<?, ?it/s]"
      ]
     },
     "metadata": {},
     "output_type": "display_data"
    },
    {
     "data": {
      "text/html": [
       "<pre style=\"white-space:pre;overflow-x:auto;line-height:normal;font-family:Menlo,'DejaVu Sans Mono',consolas,'Courier New',monospace\">Validation Accuracy: <span style=\"color: #008080; text-decoration-color: #008080; font-weight: bold\">0.1000</span>%, Avg Validation Loss: <span style=\"color: #008080; text-decoration-color: #008080; font-weight: bold\">15.0815</span>\n",
       "</pre>\n"
      ],
      "text/plain": [
       "Validation Accuracy: \u001b[1;36m0.1000\u001b[0m%, Avg Validation Loss: \u001b[1;36m15.0815\u001b[0m\n"
      ]
     },
     "metadata": {},
     "output_type": "display_data"
    },
    {
     "data": {
      "text/html": [
       "<pre style=\"white-space:pre;overflow-x:auto;line-height:normal;font-family:Menlo,'DejaVu Sans Mono',consolas,'Courier New',monospace\">Validation loss did not decrease, patience counter: <span style=\"color: #008080; text-decoration-color: #008080; font-weight: bold\">2</span>/<span style=\"color: #008080; text-decoration-color: #008080; font-weight: bold\">5</span>\n",
       "</pre>\n"
      ],
      "text/plain": [
       "Validation loss did not decrease, patience counter: \u001b[1;36m2\u001b[0m/\u001b[1;36m5\u001b[0m\n"
      ]
     },
     "metadata": {},
     "output_type": "display_data"
    },
    {
     "data": {
      "application/vnd.jupyter.widget-view+json": {
       "model_id": "0a7376e8083d4148b949edcf1aa8080d",
       "version_major": 2,
       "version_minor": 0
      },
      "text/plain": [
       "  0%|          | 0/250 [00:00<?, ?it/s]"
      ]
     },
     "metadata": {},
     "output_type": "display_data"
    },
    {
     "data": {
      "text/html": [
       "<pre style=\"white-space:pre;overflow-x:auto;line-height:normal;font-family:Menlo,'DejaVu Sans Mono',consolas,'Courier New',monospace\">Epoch: <span style=\"font-weight: bold\">[</span><span style=\"color: #008080; text-decoration-color: #008080; font-weight: bold\">4</span>/<span style=\"color: #008080; text-decoration-color: #008080; font-weight: bold\">10</span><span style=\"font-weight: bold\">]</span>, Avg Train Loss: <span style=\"color: #008080; text-decoration-color: #008080; font-weight: bold\">6.1120</span>\n",
       "</pre>\n"
      ],
      "text/plain": [
       "Epoch: \u001b[1m[\u001b[0m\u001b[1;36m4\u001b[0m/\u001b[1;36m10\u001b[0m\u001b[1m]\u001b[0m, Avg Train Loss: \u001b[1;36m6.1120\u001b[0m\n"
      ]
     },
     "metadata": {},
     "output_type": "display_data"
    },
    {
     "data": {
      "application/vnd.jupyter.widget-view+json": {
       "model_id": "18fbd5051aba4fb79c17efa59c3a3e1b",
       "version_major": 2,
       "version_minor": 0
      },
      "text/plain": [
       "  0%|          | 0/250 [00:00<?, ?it/s]"
      ]
     },
     "metadata": {},
     "output_type": "display_data"
    },
    {
     "data": {
      "text/html": [
       "<pre style=\"white-space:pre;overflow-x:auto;line-height:normal;font-family:Menlo,'DejaVu Sans Mono',consolas,'Courier New',monospace\">Validation Accuracy: <span style=\"color: #008080; text-decoration-color: #008080; font-weight: bold\">0.1000</span>%, Avg Validation Loss: <span style=\"color: #008080; text-decoration-color: #008080; font-weight: bold\">11.7806</span>\n",
       "</pre>\n"
      ],
      "text/plain": [
       "Validation Accuracy: \u001b[1;36m0.1000\u001b[0m%, Avg Validation Loss: \u001b[1;36m11.7806\u001b[0m\n"
      ]
     },
     "metadata": {},
     "output_type": "display_data"
    },
    {
     "data": {
      "text/html": [
       "<pre style=\"white-space:pre;overflow-x:auto;line-height:normal;font-family:Menlo,'DejaVu Sans Mono',consolas,'Courier New',monospace\">Validation loss did not decrease, patience counter: <span style=\"color: #008080; text-decoration-color: #008080; font-weight: bold\">3</span>/<span style=\"color: #008080; text-decoration-color: #008080; font-weight: bold\">5</span>\n",
       "</pre>\n"
      ],
      "text/plain": [
       "Validation loss did not decrease, patience counter: \u001b[1;36m3\u001b[0m/\u001b[1;36m5\u001b[0m\n"
      ]
     },
     "metadata": {},
     "output_type": "display_data"
    },
    {
     "data": {
      "application/vnd.jupyter.widget-view+json": {
       "model_id": "41033caad92f4229b04c178877cd2469",
       "version_major": 2,
       "version_minor": 0
      },
      "text/plain": [
       "  0%|          | 0/250 [00:00<?, ?it/s]"
      ]
     },
     "metadata": {},
     "output_type": "display_data"
    },
    {
     "data": {
      "text/html": [
       "<pre style=\"white-space:pre;overflow-x:auto;line-height:normal;font-family:Menlo,'DejaVu Sans Mono',consolas,'Courier New',monospace\">Epoch: <span style=\"font-weight: bold\">[</span><span style=\"color: #008080; text-decoration-color: #008080; font-weight: bold\">5</span>/<span style=\"color: #008080; text-decoration-color: #008080; font-weight: bold\">10</span><span style=\"font-weight: bold\">]</span>, Avg Train Loss: <span style=\"color: #008080; text-decoration-color: #008080; font-weight: bold\">5.5629</span>\n",
       "</pre>\n"
      ],
      "text/plain": [
       "Epoch: \u001b[1m[\u001b[0m\u001b[1;36m5\u001b[0m/\u001b[1;36m10\u001b[0m\u001b[1m]\u001b[0m, Avg Train Loss: \u001b[1;36m5.5629\u001b[0m\n"
      ]
     },
     "metadata": {},
     "output_type": "display_data"
    },
    {
     "data": {
      "application/vnd.jupyter.widget-view+json": {
       "model_id": "1a1cd13a3be4412d864b978963a8b47c",
       "version_major": 2,
       "version_minor": 0
      },
      "text/plain": [
       "  0%|          | 0/250 [00:00<?, ?it/s]"
      ]
     },
     "metadata": {},
     "output_type": "display_data"
    },
    {
     "data": {
      "text/html": [
       "<pre style=\"white-space:pre;overflow-x:auto;line-height:normal;font-family:Menlo,'DejaVu Sans Mono',consolas,'Courier New',monospace\">Validation Accuracy: <span style=\"color: #008080; text-decoration-color: #008080; font-weight: bold\">0.0000</span>%, Avg Validation Loss: <span style=\"color: #008080; text-decoration-color: #008080; font-weight: bold\">20.5644</span>\n",
       "</pre>\n"
      ],
      "text/plain": [
       "Validation Accuracy: \u001b[1;36m0.0000\u001b[0m%, Avg Validation Loss: \u001b[1;36m20.5644\u001b[0m\n"
      ]
     },
     "metadata": {},
     "output_type": "display_data"
    },
    {
     "data": {
      "text/html": [
       "<pre style=\"white-space:pre;overflow-x:auto;line-height:normal;font-family:Menlo,'DejaVu Sans Mono',consolas,'Courier New',monospace\">Validation loss did not decrease, patience counter: <span style=\"color: #008080; text-decoration-color: #008080; font-weight: bold\">4</span>/<span style=\"color: #008080; text-decoration-color: #008080; font-weight: bold\">5</span>\n",
       "</pre>\n"
      ],
      "text/plain": [
       "Validation loss did not decrease, patience counter: \u001b[1;36m4\u001b[0m/\u001b[1;36m5\u001b[0m\n"
      ]
     },
     "metadata": {},
     "output_type": "display_data"
    },
    {
     "data": {
      "application/vnd.jupyter.widget-view+json": {
       "model_id": "87b432229fa6460fa828c2c09f36eef4",
       "version_major": 2,
       "version_minor": 0
      },
      "text/plain": [
       "  0%|          | 0/250 [00:00<?, ?it/s]"
      ]
     },
     "metadata": {},
     "output_type": "display_data"
    },
    {
     "data": {
      "text/html": [
       "<pre style=\"white-space:pre;overflow-x:auto;line-height:normal;font-family:Menlo,'DejaVu Sans Mono',consolas,'Courier New',monospace\">Epoch: <span style=\"font-weight: bold\">[</span><span style=\"color: #008080; text-decoration-color: #008080; font-weight: bold\">6</span>/<span style=\"color: #008080; text-decoration-color: #008080; font-weight: bold\">10</span><span style=\"font-weight: bold\">]</span>, Avg Train Loss: <span style=\"color: #008080; text-decoration-color: #008080; font-weight: bold\">5.0035</span>\n",
       "</pre>\n"
      ],
      "text/plain": [
       "Epoch: \u001b[1m[\u001b[0m\u001b[1;36m6\u001b[0m/\u001b[1;36m10\u001b[0m\u001b[1m]\u001b[0m, Avg Train Loss: \u001b[1;36m5.0035\u001b[0m\n"
      ]
     },
     "metadata": {},
     "output_type": "display_data"
    },
    {
     "data": {
      "application/vnd.jupyter.widget-view+json": {
       "model_id": "54205eedab6140b3b2d9a3f2a77894d8",
       "version_major": 2,
       "version_minor": 0
      },
      "text/plain": [
       "  0%|          | 0/250 [00:00<?, ?it/s]"
      ]
     },
     "metadata": {},
     "output_type": "display_data"
    },
    {
     "data": {
      "text/html": [
       "<pre style=\"white-space:pre;overflow-x:auto;line-height:normal;font-family:Menlo,'DejaVu Sans Mono',consolas,'Courier New',monospace\">Validation Accuracy: <span style=\"color: #008080; text-decoration-color: #008080; font-weight: bold\">0.0000</span>%, Avg Validation Loss: <span style=\"color: #008080; text-decoration-color: #008080; font-weight: bold\">20.6570</span>\n",
       "</pre>\n"
      ],
      "text/plain": [
       "Validation Accuracy: \u001b[1;36m0.0000\u001b[0m%, Avg Validation Loss: \u001b[1;36m20.6570\u001b[0m\n"
      ]
     },
     "metadata": {},
     "output_type": "display_data"
    },
    {
     "data": {
      "text/html": [
       "<pre style=\"white-space:pre;overflow-x:auto;line-height:normal;font-family:Menlo,'DejaVu Sans Mono',consolas,'Courier New',monospace\">Validation loss did not decrease, patience counter: <span style=\"color: #008080; text-decoration-color: #008080; font-weight: bold\">5</span>/<span style=\"color: #008080; text-decoration-color: #008080; font-weight: bold\">5</span>\n",
       "</pre>\n"
      ],
      "text/plain": [
       "Validation loss did not decrease, patience counter: \u001b[1;36m5\u001b[0m/\u001b[1;36m5\u001b[0m\n"
      ]
     },
     "metadata": {},
     "output_type": "display_data"
    },
    {
     "data": {
      "text/html": [
       "<pre style=\"white-space:pre;overflow-x:auto;line-height:normal;font-family:Menlo,'DejaVu Sans Mono',consolas,'Courier New',monospace\">Early stopping triggered.\n",
       "</pre>\n"
      ],
      "text/plain": [
       "Early stopping triggered.\n"
      ]
     },
     "metadata": {},
     "output_type": "display_data"
    }
   ],
   "source": [
    "import numpy as np\n",
    "\n",
    "# Early stopping parameters\n",
    "best_val_loss = np.inf\n",
    "patience = 5  # How many epochs to wait after last time validation loss improved.\n",
    "patience_counter = 0  # Tracks how many epochs have passed since last improvement.\n",
    "\n",
    "for epoch in range(num_epochs):\n",
    "    model.train()\n",
    "    total_loss = 0\n",
    "    for idx, (image, label) in tqdm(enumerate(train_dl), total=len(train_dl)):\n",
    "        image = image.to(device)\n",
    "        label = label.to(device)\n",
    "        \n",
    "        optimizer.zero_grad()\n",
    "        output = model(image)\n",
    "        loss = criterion(output, label)\n",
    "        loss.backward()\n",
    "        optimizer.step()\n",
    "        total_loss += loss.item()\n",
    "    avg_train_loss = total_loss / len(train_dl)\n",
    "    print(f\"Epoch: [{epoch+1}/{num_epochs}], Avg Train Loss: {avg_train_loss:.4f}\")\n",
    "\n",
    "    total_val_loss = 0\n",
    "    model.eval()\n",
    "    with torch.no_grad():\n",
    "        total = 0\n",
    "        correct = 0\n",
    "        for idx, (image, label) in tqdm(enumerate(val_dl), total=len(val_dl)):  \n",
    "            image = image.to(device)\n",
    "            label = label.to(device)\n",
    "            output = model(image)\n",
    "            val_loss = criterion(output, label)\n",
    "            total_val_loss += val_loss.item()\n",
    "            _, predicts = torch.max(output, 1)\n",
    "            total += label.size(0)\n",
    "            correct += (predicts == label).sum().item()\n",
    "        avg_val_loss = total_val_loss / len(val_dl)\n",
    "        val_acc = 100 * correct / total\n",
    "    print(f\"Validation Accuracy: {val_acc:.4f}%, Avg Validation Loss: {avg_val_loss:.4f}\")\n",
    "\n",
    "    if avg_val_loss < best_val_loss:\n",
    "        best_val_loss = avg_val_loss\n",
    "        patience_counter = 0  # Reset patience counter\n",
    "        torch.save(model.state_dict(), f\"model_weights/best_model.pt\")  # Save the best model\n",
    "        print(\"Validation loss decreased, saving model.\")\n",
    "    else:\n",
    "        patience_counter += 1\n",
    "        print(f\"Validation loss did not decrease, patience counter: {patience_counter}/{patience}\")\n",
    "\n",
    "    if patience_counter >= patience:\n",
    "        print(\"Early stopping triggered.\")\n",
    "        break\n",
    "\n",
    "    lr_scheduler.step(avg_val_loss)\n"
   ]
  },
  {
   "cell_type": "code",
   "execution_count": 82,
   "metadata": {},
   "outputs": [
    {
     "data": {
      "text/html": [
       "<pre style=\"white-space:pre;overflow-x:auto;line-height:normal;font-family:Menlo,'DejaVu Sans Mono',consolas,'Courier New',monospace\">the lenght of test ds: <span style=\"color: #008080; text-decoration-color: #008080; font-weight: bold\">35000</span>\n",
       "</pre>\n"
      ],
      "text/plain": [
       "the lenght of test ds: \u001b[1;36m35000\u001b[0m\n"
      ]
     },
     "metadata": {},
     "output_type": "display_data"
    }
   ],
   "source": [
    "test_ds = HumanFaceDataset(\n",
    "    path = \"test\", flag = \"test\", transforms = val_transform\n",
    ")\n",
    "\n",
    "print(\"the lenght of test ds:\", len(test_ds))\n",
    "\n",
    "test_dl = DataLoader(\n",
    "    test_ds, batch_size = 32, shuffle = True\n",
    ")"
   ]
  },
  {
   "cell_type": "code",
   "execution_count": 83,
   "metadata": {},
   "outputs": [],
   "source": [
    "out_dict = {}"
   ]
  },
  {
   "cell_type": "code",
   "execution_count": null,
   "metadata": {},
   "outputs": [],
   "source": [
    "\n",
    "denormalize = tr.Normalize(\n",
    "    mean=[-0.485/0.229, -0.456/0.224, -0.406/0.225],\n",
    "    std=[1/0.229, 1/0.224, 1/0.225]\n",
    ")\n",
    "\n",
    "out_dict = {}\n",
    "model.load_state_dict(torch.load(\"model_weights/best_model.pt\"))\n",
    "model.eval()\n",
    "\n",
    "with torch.no_grad():\n",
    "    for idx, (images, paths) in tqdm(enumerate(test_dl), total=len(test_dl)):\n",
    "        images = images.to(device)\n",
    "        outputs = model(images)\n",
    "        _, predicted = torch.max(outputs, 1)\n",
    "        for i, image in enumerate(images):\n",
    "            image_cpu = denormalize(image).cpu().squeeze(0)\n",
    "            pred_class_idx = predicted[i].item()\n",
    "            pred_class_label = full_ds.idx2label[pred_class_idx]\n",
    "            image_path = paths[i] \n",
    "            out_dict[image_path] = {\"image\": image_cpu, \"predicted\": pred_class_label}\n",
    "\n"
   ]
  },
  {
   "cell_type": "code",
   "execution_count": 87,
   "metadata": {},
   "outputs": [],
   "source": [
    "import csv\n",
    "\n",
    "with open('predictions.csv', 'w', newline='') as file:\n",
    "    writer = csv.writer(file)\n",
    "    writer.writerow(['image_name', 'label'])\n",
    "    for image_path, data in out_dict.items():\n",
    "        writer.writerow([os.path.basename(image_path), data['predicted']])"
   ]
  }
 ],
 "metadata": {
  "kernelspec": {
   "display_name": "Python 3",
   "language": "python",
   "name": "python3"
  },
  "language_info": {
   "codemirror_mode": {
    "name": "ipython",
    "version": 3
   },
   "file_extension": ".py",
   "mimetype": "text/x-python",
   "name": "python",
   "nbconvert_exporter": "python",
   "pygments_lexer": "ipython3",
   "version": "3.11.0"
  }
 },
 "nbformat": 4,
 "nbformat_minor": 2
}
